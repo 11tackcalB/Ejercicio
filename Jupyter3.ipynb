{
 "cells": [
  {
   "cell_type": "code",
   "execution_count": null,
   "id": "9cac42c6",
   "metadata": {},
   "outputs": [],
   "source": [
    "from math import isqrt,sqrt,floor\n",
    "\n",
    "def cuadrados(n):\n",
    "    if n<=3:\n",
    "        return n\n",
    "    a=n\n",
    "    for i in range(1,n+1):\n",
    "        c=i*i\n",
    "        if c>n:\n",
    "            break\n",
    "        else: a= min(a,1+cuadrados(n-c))\n",
    "    return a\n",
    "\n",
    "def rest(a,n):\n",
    "    b=\"\"\n",
    "    if integer(n)==True:\n",
    "        intnumber=int(a)\n",
    "        b=b+(f'{intnumber}\\u00B2')\n",
    "    else:\n",
    "        entero=(floor(a))\n",
    "        if integer((sqrt(n-(entero**2))))==True and isqrt(n-(entero**2))==1:\n",
    "            b=b+(f'{entero}\\u00B2 + {isqrt(n-(entero**2))}\\u00B2')\n",
    "        else:\n",
    "            #while (n-(entero**2))!=0:\n",
    "            long_number=n-(entero**2)\n",
    "            #while long_number!=0:\n",
    "            b=b+(f'{entero}\\u00B2 + {rest(isqrt(long_number),long_number)}')\n",
    "    return b\n",
    "\n",
    "def integer(n):\n",
    "    number=str(sqrt(n))\n",
    "    if number[-1]==\"0\":\n",
    "        return True\n",
    "    else:\n",
    "        return False\n",
    "\n",
    "if __name__==\"__main__\":\n",
    "    x=int(input())\n",
    "    a=sqrt(x)\n",
    "    #print(a)\n",
    "    #print(integer(x))\n",
    "    print(f'Al menos puede ser expresado por {cuadrados(x)} numeros')\n",
    "    print(f'Una de sus suma de cuadrados es {rest(a,x)}')\n"
   ]
  }
 ],
 "metadata": {
  "kernelspec": {
   "display_name": "Python 3 (ipykernel)",
   "language": "python",
   "name": "python3"
  },
  "language_info": {
   "codemirror_mode": {
    "name": "ipython",
    "version": 3
   },
   "file_extension": ".py",
   "mimetype": "text/x-python",
   "name": "python",
   "nbconvert_exporter": "python",
   "pygments_lexer": "ipython3",
   "version": "3.9.13"
  }
 },
 "nbformat": 4,
 "nbformat_minor": 5
}
